{
  "nbformat": 4,
  "nbformat_minor": 0,
  "metadata": {
    "colab": {
      "provenance": []
    },
    "kernelspec": {
      "name": "python3",
      "display_name": "Python 3"
    },
    "language_info": {
      "name": "python"
    }
  },
  "cells": [
    {
      "cell_type": "code",
      "execution_count": null,
      "metadata": {
        "collapsed": true,
        "id": "-dKbvcK2YNEb"
      },
      "outputs": [],
      "source": [
        "\"\"\"\n",
        "Question 1: What is a random variable in probability theory?\n",
        "\n",
        "Answer: In probability, a random variable is a numerical value ascribed to the outcome of a chance event or experiment.\n",
        "It is essentially a method of quantifying the outcomes of chance events by assigning a number to each conceivable occurrence.\n",
        "These variables can be discrete, taking on definite, distinct values (such as the number of cars in a car showroom), or continuous,\n",
        "taking on any value within a given range (such as height of students in a class).\n",
        "Random variables enable us to represent and analyse the numerical results of random processes,\n",
        "allowing us to utilise mathematical tools to comprehend and forecast the possibility of various outcomes.\n",
        "\n",
        "\"\"\""
      ]
    },
    {
      "cell_type": "code",
      "source": [
        "\"\"\"\n",
        "Question 2: What are the types of random variables?\n",
        "\n",
        "Answer: There are two types of random variables: discrete and continuous.\n",
        "1. Discrete Random Variable:A discrete random variable can take only a finite or countably infinite number of values.\n",
        "Examples:\n",
        "The number of heads after three flips of a coin (may be 0, 1, 2, or 3).\n",
        "The number of cars travelling through a specific spot on a highway in an hour.\n",
        "The number of defective items in a batch of toys.\n",
        "The outcome of rolling a die (1, 2, 3, 4, 5, or 6).\n",
        "\n",
        "2. Continuous Random Variables:  A continuous random variable can have any value within a given range or interval.\n",
        "Examples:\n",
        "The height of the pupil in class.\n",
        "The temperature of a room.\n",
        "The time required to execute a task.\n",
        "The weight of an individual.\n",
        "The amount of rain that falls during a certain day.\n",
        "\n",
        "\"\"\""
      ],
      "metadata": {
        "id": "HO1sRSkFZ1CA"
      },
      "execution_count": null,
      "outputs": []
    },
    {
      "cell_type": "code",
      "source": [
        "\"\"\"\n",
        "Question 3: Explain the difference between discrete and continuous distributions.\n",
        "\n",
        "Answer: Discrete Distributions:A discrete distribution is the probability of a random variable taking distinct values.\n",
        "Values are distinct and separate.\n",
        "Probabilities are associated with specific values.\n",
        "Can be expressed using a probability mass function (PMF).\n",
        "Examples: Binomial distribution, Poisson distribution.\n",
        "\n",
        "Continuous Distributions: A continuous distribution is the probability of a random variable falling within a range of values.\n",
        "Values can be any value within a given range, including decimals and fractions.\n",
        "Probabilities are connected with intervals rather than precise values.\n",
        "Can be expressed using a probability density function (PDF).\n",
        "Examples: Uniform distribution, Normal distribution.\n",
        "\n",
        "\"\"\""
      ],
      "metadata": {
        "id": "g5lrMcvibEAE"
      },
      "execution_count": null,
      "outputs": []
    },
    {
      "cell_type": "code",
      "source": [
        "\"\"\"\n",
        "Question 4: What is a binomial distribution, and how is it used in probability?\n",
        "\n",
        "Answer: A binomial distribution is a probability distribution that describes the likelihood of achieving a given number of successes in a fixed number of independent trials,\n",
        "each of which has just two possible outcomes: success or failure.It is commonly used to analyse situations in which outcomes can be classified as either happening or not happening,\n",
        "such as coin flips or product failures.\n",
        "The binomial distribution is used to compute the chance of reaching a specified number of successes (k) in 'n' trials, given the probability of success (p) on a single trial. This is accomplished using the following formula:\n",
        "P(X = k) = (n choose k) * p^k * (1-p)^(n-k).\n",
        "P(X=k) represents the probability of exactly k successes.\n",
        "The binomial coefficient (n choose k) is calculated as n! / (k! * (n-k)!) and represents the number of ways to select k successes from n trials.\n",
        "p is the chance of success on a single trial.\n",
        "(1-p) represents the likelihood of failure in a single trial.\n",
        "n denotes the number of tries.\n",
        "k represents the number of successes.\n",
        "\n",
        "\"\"\""
      ],
      "metadata": {
        "id": "mxKIlzqMcXw0"
      },
      "execution_count": null,
      "outputs": []
    },
    {
      "cell_type": "code",
      "source": [
        "\"\"\"\n",
        "Question 5: What is the standard normal distribution, and why is it important?\n",
        "\n",
        "Answer: The standard normal distribution has a mean of zero and a standard deviation of one. It is also called the z-distribution.\n",
        "This distribution is important because it facilitates probability calculations and comparisons of datasets,regardless of their original means and standard deviations.\n",
        "The standard normal distribution offers a consistent framework for evaluating and interpreting data from different normal distributions,streamlining statistical analysis and improving the significance of comparisons.\n",
        "The possibility that a value will fall within a given range is easily ascertained because to the standard normal distribution is comprehensive tables\n",
        "and calculators that provide probabilities associated with various z-scores.\n",
        "\n",
        "\"\"\""
      ],
      "metadata": {
        "id": "DyajY2wZd11Z"
      },
      "execution_count": null,
      "outputs": []
    },
    {
      "cell_type": "code",
      "source": [
        "\"\"\"\n",
        "\n",
        "Question 6: What is the Central Limit Theorem (CLT), and why is it critical in statistics?\n",
        "\n",
        "Answer: The Central limit Theoram (CLT) states that if you have a population with a mean and a standard deviation and take sufficiently large number of random\n",
        "samples from the population with replacement, then the distribution of the sample means will be approximately normally distributed.\n",
        " The assumption of normality is the foundation of many statistical techniques. As long as the sample size is sufficiently high, the CLT enables us to apply these techniques to data that might not be naturally regularly distributed.\n",
        "Inference about Population: Using sample data, the CLT offers a basis for drawing conclusions about population parameters (such as the mean). For instance, we can perform hypothesis testing or create confidence intervals.\n",
        "The CLT makes statistical analysis easier to understand by enabling us to roughly represent the distribution of sample means with a normal distribution.\n",
        "The CLT is frequently used to forecast and infer information about populations from sample data in a variety of domains, such as social sciences, finance, and quality control.\n",
        "\n",
        "\"\"\""
      ],
      "metadata": {
        "id": "6mAZvwcNfsLs"
      },
      "execution_count": null,
      "outputs": []
    },
    {
      "cell_type": "code",
      "source": [
        "\"\"\"\n",
        "Question 7: What is the significance of confidence intervals in statistical analysis?\n",
        "\n",
        "Answer: Confidence intervals are important in statistical analysis because they measure the uncertainty surrounding sample-based estimates. They provide a set of feasible values for a population parameter,\n",
        "reflecting the reliability of our estimate.Understanding the confidence interval allows analysts to analyse the stability of their findings and make better conclusions.\n",
        "Confidence intervals are critical for determining the reliability and precision of statistical estimates, allowing researchers and analysts to make more informed and confident conclusions.\n",
        "\"\"\""
      ],
      "metadata": {
        "id": "_tJd3uAWg-Gg"
      },
      "execution_count": null,
      "outputs": []
    },
    {
      "cell_type": "code",
      "source": [
        "\"\"\"\n",
        "Question 8: What is the concept of expected value in a probability distribution?\n",
        "\n",
        "Answer: The expected value in a probability distribution represents the average outcome of a random variable over a large number of experiments.It is a weighted average of all possible values,\n",
        "with each value weighted according to its chance of occurrence.Essentially,it is the long-run average value that you would expect to find if you repeated the experiment indefinitely.\n",
        "Expected value (E[X] or μ) is calculated by adding the product of each conceivable outcome (X) and its probability (P(X)). For discrete random variables, E(X) = Σ [x * P(x)].\n",
        "The anticipated value of a continuous random variable is ∫ x * f(x) dx, where f(x) is the probability density function.\n",
        "\n",
        "\"\"\""
      ],
      "metadata": {
        "id": "M2xlPHORq7Xx"
      },
      "execution_count": null,
      "outputs": []
    },
    {
      "cell_type": "code",
      "source": [
        "\"\"\"\n",
        "Question 9: Write a Python program to generate 1000 random numbers from a normal distribution with mean = 50 and standard deviation = 5. Compute its mean and standard\n",
        "deviation using NumPy, and draw a histogram to visualize the distribution.\n",
        "\"\"\"\n",
        "import numpy as np\n",
        "import matplotlib.pyplot as plt\n",
        "\n",
        "# Set parameters for the normal distribution\n",
        "mean = 50\n",
        "std_dev = 5\n",
        "num_samples = 1000\n",
        "\n",
        "# Random number generator for normal distribution\n",
        "random_numbers = np.random.normal(mean, std_dev, num_samples)\n",
        "\n",
        "# Finding the mean and standard deviation\n",
        "computed_mean = np.mean(random_numbers)\n",
        "computed_std_dev = np.std(random_numbers)\n",
        "\n",
        "# Print mean and standard deviation\n",
        "print(f\"Computed Mean: {computed_mean}\")\n",
        "print(f\"Computed Standard Deviation: {computed_std_dev}\")\n",
        "\n",
        "# Plot the histogram\n",
        "plt.figure(figsize=(10, 6))\n",
        "plt.hist(random_numbers, bins=30, alpha=0.7, color='blue', edgecolor='black')\n",
        "plt.title('Histogram of Random Numbers from Normal Distribution')\n",
        "plt.xlabel('Value')\n",
        "plt.ylabel('Frequency')\n",
        "plt.axvline(computed_mean, color='red', linestyle='dashed', linewidth=1, label='Mean')\n",
        "plt.axvline(computed_mean + computed_std_dev, color='green', linestyle='dashed', linewidth=1, label='Mean + 1 Std Dev')\n",
        "plt.axvline(computed_mean - computed_std_dev, color='green', linestyle='dashed', linewidth=1, label='Mean - 1 Std Dev')\n",
        "plt.legend()\n",
        "plt.grid()\n",
        "plt.show()\n"
      ],
      "metadata": {
        "colab": {
          "base_uri": "https://localhost:8080/",
          "height": 599
        },
        "id": "httbbmrrrztO",
        "outputId": "6fb44613-c96a-4e75-bd9b-f07a93983d41"
      },
      "execution_count": 9,
      "outputs": [
        {
          "output_type": "stream",
          "name": "stdout",
          "text": [
            "Computed Mean: 50.0669242250323\n",
            "Computed Standard Deviation: 5.149417688183187\n"
          ]
        },
        {
          "output_type": "display_data",
          "data": {
            "text/plain": [
              "<Figure size 1000x600 with 1 Axes>"
            ],
            "image/png": "[encoded data removed]"
          },
          "metadata": {}
        }
      ]
    },
    {
      "cell_type": "code",
      "source": [
        "\"\"\"\n",
        "Question 10: You are working as a data analyst for a retail company. The company has\n",
        "collected daily sales data for 2 years and wants you to identify the overall sales trend.\n",
        "daily_sales = [220, 245, 210, 265, 230, 250, 260, 275, 240, 255,\n",
        "235, 260, 245, 250, 225, 270, 265, 255, 250, 260]\n",
        "● Explain how you would apply the Central Limit Theorem to estimate the average sales\n",
        "with a 95% confidence interval.\n",
        "● Write the Python code to compute the mean sales and its confidence interval.\n",
        "\n",
        "Answer: According to the Central Limit Theorem, as sample size increases, the distribution of the sample means approaches a normal distribution, regardless of the data's initial distribution.\n",
        "This enables us to make assumptions about the population mean using sample data.\n",
        "\"\"\"\n",
        "\n",
        "import numpy as np\n",
        "import scipy.stats as stats\n",
        "\n",
        "# Daily sales data\n",
        "daily_sales = [220, 245, 210, 265, 230, 250, 260, 275, 240, 255,\n",
        "                235, 260, 245, 250, 225, 270, 265, 255, 250, 260]\n",
        "\n",
        "# Calculate the sample mean\n",
        "mean_sales = np.mean(daily_sales)\n",
        "\n",
        "# Calculate the sample standard deviation\n",
        "std_dev_sales = np.std(daily_sales, ddof=1)  # Using ddof=1 for sample standard deviation\n",
        "\n",
        "# Determine the sample size\n",
        "n = len(daily_sales)\n",
        "\n",
        "# Calculate the standard error\n",
        "standard_error = std_dev_sales / np.sqrt(n)\n",
        "\n",
        "# Z-score for 95% confidence interval\n",
        "z_score = stats.norm.ppf(0.975)  # Two-tailed\n",
        "\n",
        "# Calculate the confidence interval\n",
        "margin_of_error = z_score * standard_error\n",
        "confidence_interval = (mean_sales - margin_of_error, mean_sales + margin_of_error)\n",
        "\n",
        "# Print results\n",
        "print(f\"Mean Sales: {mean_sales}\")\n",
        "print(f\"95% Confidence Interval: {confidence_interval}\")\n"
      ],
      "metadata": {
        "colab": {
          "base_uri": "https://localhost:8080/"
        },
        "id": "cw91MZ2Ssmu_",
        "outputId": "b27e8318-9217-43de-dcd9-b38596c1ecdc"
      },
      "execution_count": 10,
      "outputs": [
        {
          "output_type": "stream",
          "name": "stdout",
          "text": [
            "Mean Sales: 248.25\n",
            "95% Confidence Interval: (np.float64(240.68326838343515), np.float64(255.81673161656485))\n"
          ]
        }
      ]
    },
    {
      "cell_type": "code",
      "source": [],
      "metadata": {
        "id": "oCDqG2SetbKq"
      },
      "execution_count": null,
      "outputs": []
    }
  ]
}